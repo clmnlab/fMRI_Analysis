{
 "cells": [
  {
   "cell_type": "markdown",
   "id": "2124fa13",
   "metadata": {},
   "source": [
    "# Bias-Variance tradeoff example from the Mumford et al. 2011\n",
    "Jörn Diedrichsen (jdiedric@uwo.ca) "
   ]
  },
  {
   "cell_type": "code",
   "execution_count": 1,
   "id": "6255d553",
   "metadata": {},
   "outputs": [],
   "source": [
    "import numpy as np\n",
    "import matplotlib.pyplot as plt\n",
    "import numpy.linalg as la"
   ]
  },
  {
   "cell_type": "markdown",
   "id": "3e501913",
   "metadata": {},
   "source": [
    "### Problem of regressors with covariance (overlapping trial hrf's)\n",
    "Here we use a an example of overlapping hrfs and i.i.d noise - Autocorrelated noise (and associatated temporal prewhitening) does not change anything fundamental. First let's make a Design matrix with 4 different trials - all overlapping. For simplicity I am using here a hrf with [1,0.5]. "
   ]
  },
  {
   "cell_type": "code",
   "execution_count": 2,
   "id": "4590023f",
   "metadata": {},
   "outputs": [],
   "source": [
    "## Construct design matrix \n",
    "def make_design(hrf,seq,iti):\n",
    "    h=len(hrf)\n",
    "    N=len(seq)*iti+len(hrf)-1\n",
    "    Q=len(seq)\n",
    "    X=np.zeros((N,Q))\n",
    "    for i in range(Q):\n",
    "        start = i*iti\n",
    "        X[start:start+h,seq[i]]=hrf\n",
    "    return X"
   ]
  },
  {
   "cell_type": "markdown",
   "id": "8ab5796d",
   "metadata": {},
   "source": [
    "Now we can make the design matrix for a standard run with 4 trials. "
   ]
  },
  {
   "cell_type": "code",
   "execution_count": 3,
   "id": "6a0256c7",
   "metadata": {},
   "outputs": [
    {
     "data": {
      "text/plain": [
       "<matplotlib.image.AxesImage at 0x115949430>"
      ]
     },
     "execution_count": 3,
     "metadata": {},
     "output_type": "execute_result"
    },
    {
     "data": {
      "image/png": "[encoded data removed]",
      "text/plain": [
       "<Figure size 432x288 with 1 Axes>"
      ]
     },
     "metadata": {
      "needs_background": "light"
     },
     "output_type": "display_data"
    }
   ],
   "source": [
    "hrf=[1,0.5]\n",
    "seq = [0,1,2,3]\n",
    "X = make_design([1,0.5],[0,1,2,3],1)\n",
    "plt.imshow(X)"
   ]
  },
  {
   "cell_type": "markdown",
   "id": "f8a7e03a",
   "metadata": {},
   "source": [
    "The first panel shows the covariance between regressors, the second one the variance of the estimatated beta weights "
   ]
  },
  {
   "cell_type": "code",
   "execution_count": 4,
   "id": "2daf5782",
   "metadata": {},
   "outputs": [
    {
     "data": {
      "text/plain": [
       "Text(0.5, 1.0, '$(\\\\mathbf{X}^T\\\\mathbf{X})^{-1}$')"
      ]
     },
     "execution_count": 4,
     "metadata": {},
     "output_type": "execute_result"
    },
    {
     "data": {
      "image/png": "[encoded data removed]",
      "text/plain": [
       "<Figure size 432x288 with 4 Axes>"
      ]
     },
     "metadata": {
      "needs_background": "light"
     },
     "output_type": "display_data"
    }
   ],
   "source": [
    "plt.subplot(1,2,1)\n",
    "plt.imshow(X.T@X)\n",
    "plt.colorbar()\n",
    "plt.title('$\\mathbf{X}^T\\mathbf{X}$')\n",
    "plt.subplot(1,2,2)\n",
    "plt.imshow(la.inv(X.T@X))\n",
    "plt.colorbar()\n",
    "plt.title('$(\\mathbf{X}^T\\mathbf{X})^{-1}$')\n"
   ]
  },
  {
   "cell_type": "markdown",
   "id": "f5439067",
   "metadata": {},
   "source": [
    "So how bad is the covariance? We can calculate the Variance-inflation factor - the ratio of the variance that we got over the variance we would expect if we had widely spaced the trials and made them independent. "
   ]
  },
  {
   "cell_type": "code",
   "execution_count": 5,
   "id": "874400c8",
   "metadata": {},
   "outputs": [
    {
     "name": "stdout",
     "output_type": "stream",
     "text": [
      "Variance without overlap: [0.8 0.8 0.8 0.8]\n",
      "Variance with overlap:[0.997 1.232 1.232 0.997]\n",
      "Variance inflation:[1.246 1.54  1.54  1.246]\n"
     ]
    }
   ],
   "source": [
    "var1 = 1/np.diag(X.T@X)\n",
    "var2 = np.diag(la.inv(X.T@X))\n",
    "print(f'Variance without overlap: {var1}')\n",
    "print(f'Variance with overlap:{var2.round(3)}')\n",
    "VIF = var2/var1\n",
    "print(f'Variance inflation:{VIF.round(3)}')\n"
   ]
  },
  {
   "cell_type": "markdown",
   "id": "d56031e2",
   "metadata": {},
   "source": [
    "## The proposed solution \n",
    "The idea is to combine all other trial types into one single regressor and then estimate the single one that you want. \n",
    "Here we show that this can actually can be expressed simply with a new combination of the old original regressors. \n",
    "\n",
    "Say you have a simple GLM with pretty extensive design matrix (superset): \n",
    "$$\n",
    "\\mathbf{y} = \\mathbf{X} \\boldsymbol{\\beta} + \\epsilon\\\\\n",
    "\\hat{\\boldsymbol{\\beta}}=(\\mathbf{X}^{T}\\mathbf{X})^{-1}\\mathbf{X}^{T}\\mathbf{y}\n",
    "$$\n",
    "Then you are interested in a linear subspace, i.e. the projection on a arbitrary new design matrix: \n",
    "$$\n",
    "\\mathbf{Z}=\\mathbf{XC}\n",
    "$$\n",
    "Then you can simply obtain any new beta estimate by re-weighting the old estimates\n",
    "\n",
    "$$\n",
    "\\boldsymbol{\\gamma}=(\\mathbf{C}^T\\mathbf{X}^T\\mathbf{X}\\mathbf{C})^{-1}\\mathbf{C}^T\\mathbf{X}^T\\mathbf{y}\\\\\n",
    "=(\\mathbf{C}^T\\mathbf{X}^T\\mathbf{X}\\mathbf{C})^{-1}\\mathbf{C}^T\\mathbf{X}^T\\mathbf{X}\\hat{\\boldsymbol{\\beta}}\\\\\n",
    "$$\n",
    "\n",
    "### Example: Variance reduction\n",
    "So say we want to estimate the second trial type, we can define the following contrast matrix. "
   ]
  },
  {
   "cell_type": "code",
   "execution_count": 6,
   "id": "f303fccd",
   "metadata": {},
   "outputs": [
    {
     "data": {
      "text/plain": [
       "array([[0, 1],\n",
       "       [1, 0],\n",
       "       [0, 1],\n",
       "       [0, 1]])"
      ]
     },
     "execution_count": 6,
     "metadata": {},
     "output_type": "execute_result"
    }
   ],
   "source": [
    "C = np.array([[0,1,0,0],[1,0,1,1]]).T\n",
    "C\n"
   ]
  },
  {
   "cell_type": "markdown",
   "id": "45a715ef",
   "metadata": {},
   "source": [
    "The new design matrix will now look something like this:  "
   ]
  },
  {
   "cell_type": "code",
   "execution_count": 7,
   "id": "137f096b",
   "metadata": {},
   "outputs": [
    {
     "data": {
      "text/plain": [
       "Text(0.5, 1.0, 'New design matrix')"
      ]
     },
     "execution_count": 7,
     "metadata": {},
     "output_type": "execute_result"
    },
    {
     "data": {
      "image/png": "[encoded data removed]",
      "text/plain": [
       "<Figure size 432x288 with 2 Axes>"
      ]
     },
     "metadata": {
      "needs_background": "light"
     },
     "output_type": "display_data"
    }
   ],
   "source": [
    "plt.subplot(1,2,1)\n",
    "plt.imshow(X)\n",
    "plt.title('Old design matrix')\n",
    "plt.subplot(1,2,2)\n",
    "plt.imshow(X@C)\n",
    "plt.title('New design matrix')\n"
   ]
  },
  {
   "cell_type": "code",
   "execution_count": 8,
   "id": "3755016f",
   "metadata": {},
   "outputs": [
    {
     "name": "stdout",
     "output_type": "stream",
     "text": [
      "Old Variance: 1.232\n",
      "New Variance: 0.962\n"
     ]
    }
   ],
   "source": [
    "var1=np.diag(la.inv(X.T@X))\n",
    "var2=np.diag(la.inv(C.T@X.T@X@C))\n",
    "print(f'Old Variance: {var1[1].round(3)}')\n",
    "print(f'New Variance: {var2[0].round(3)}')\n"
   ]
  },
  {
   "cell_type": "markdown",
   "id": "5674fd5c",
   "metadata": {},
   "source": [
    "### Example: Increase in bias (inducing variance across blocks)\n",
    "Very predictably, the decrease in variance doesn't come for free (nothing good in life really does). The simpler model assumes that all the other trials elicit exactly the same activity. What if this not the case. Let's assume the true activity of the 2 trial (we are interested in) is 1. The activity of one of the other trials is also 1, but 2 other conditions have an activity of 2 and 3.  "
   ]
  },
  {
   "cell_type": "code",
   "execution_count": 9,
   "id": "eb4d050e",
   "metadata": {},
   "outputs": [
    {
     "data": {
      "text/plain": [
       "array([[1, 1, 2, 2, 3, 3],\n",
       "       [1, 1, 1, 1, 1, 1],\n",
       "       [2, 3, 1, 3, 1, 2],\n",
       "       [3, 2, 3, 1, 2, 1]])"
      ]
     },
     "execution_count": 9,
     "metadata": {},
     "output_type": "execute_result"
    }
   ],
   "source": [
    "b=np.array([[1,1,2,3],[1,1,3,2],[2,1,1,3],[2,1,3,1],[3,1,1,2],[3,1,2,1]]).T\n",
    "b"
   ]
  },
  {
   "cell_type": "markdown",
   "id": "e96ad9b0",
   "metadata": {},
   "source": [
    "We can now directly express the estimation of the new parameters as the function of the old betas by defining projection matrix P\n",
    "\n",
    "$$\n",
    "\\mathbf{P}= (\\mathbf{C}^T \\mathbf{X}^T \\mathbf{X} \\mathbf{C})^{-1} \\mathbf{C}^T \\mathbf{X}^T \\mathbf{X}\n",
    "$$"
   ]
  },
  {
   "cell_type": "code",
   "execution_count": 10,
   "id": "93ba9358",
   "metadata": {},
   "outputs": [
    {
     "data": {
      "text/plain": [
       "array([[ 0.228,  1.   ,  0.127, -0.354],\n",
       "       [ 0.215,  0.   ,  0.342,  0.443]])"
      ]
     },
     "execution_count": 10,
     "metadata": {},
     "output_type": "execute_result"
    }
   ],
   "source": [
    "P=la.inv(C.T@X.T@X@C)@C.T@X.T@X\n",
    "P.round(3)"
   ]
  },
  {
   "cell_type": "code",
   "execution_count": 11,
   "id": "e0d5c452",
   "metadata": {},
   "outputs": [
    {
     "data": {
      "text/plain": [
       "array([[0.418, 0.899, 0.519, 1.481, 1.101, 1.582],\n",
       "       [2.228, 2.127, 2.101, 1.899, 1.873, 1.772]])"
      ]
     },
     "execution_count": 11,
     "metadata": {},
     "output_type": "execute_result"
    }
   ],
   "source": [
    "(P@b).round(3)"
   ]
  },
  {
   "cell_type": "markdown",
   "id": "b6095760",
   "metadata": {},
   "source": [
    "So, in this example, the estimates vary between 0.4 and 1.58. This is due to the different ordering of trials in the different runs and model doesn't account for it. If the ordering is completely random, the estimator is still unbiased. However, the variance consists of two parts: The estimation uncertainty and average deviation of the conditions from the mean, with the desired $\\gamma_i$ excepted. \n",
    "\n",
    "$$\n",
    "\\mathbf{M} = \\frac{1}{K-1} \\sum_{j \\neq i} (\\beta_j - \\bar{\\beta})^2\\\\\n",
    "\\mathbf{V} = (\\mathbf{C_i}^T \\mathbf{X}^T \\mathbf{X} \\mathbf{C_i})^{-1}\\\\\n",
    "var(\\gamma_i) =  V_{ii} + \\mathbf{P}_i \\mathbf{V} \\mathbf{P_i} \n",
    "$$"
   ]
  },
  {
   "cell_type": "code",
   "execution_count": null,
   "id": "ad413635",
   "metadata": {},
   "outputs": [],
   "source": []
  }
 ],
 "metadata": {
  "kernelspec": {
   "display_name": "Python 3",
   "language": "python",
   "name": "python3"
  },
  "language_info": {
   "codemirror_mode": {
    "name": "ipython",
    "version": 3
   },
   "file_extension": ".py",
   "mimetype": "text/x-python",
   "name": "python",
   "nbconvert_exporter": "python",
   "pygments_lexer": "ipython3",
   "version": "3.8.5"
  }
 },
 "nbformat": 4,
 "nbformat_minor": 5
}
